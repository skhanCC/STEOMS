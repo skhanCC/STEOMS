{
 "cells": [
  {
   "cell_type": "code",
   "execution_count": null,
   "metadata": {},
   "outputs": [],
   "source": [
    "# © 2020 and later. Saeed Khan\n",
    "\n",
    "# Preamble\n",
    "import numpy as np\n",
    "import scipy as sp\n",
    "import math\n",
    "import matplotlib.pyplot as plt\n",
    "from matplotlib.collections import LineCollection\n",
    "from matplotlib import cm\n",
    "from matplotlib.colors import ListedColormap\n",
    "import time"
   ]
  },
  {
   "cell_type": "markdown",
   "metadata": {},
   "source": [
    "## Mathematica TEOM calculator returned arrays, converted to FortranForm, and following Python replacements"
   ]
  },
  {
   "cell_type": "markdown",
   "metadata": {},
   "source": [
    "returnA[[1]]: List of variables being calculated"
   ]
  },
  {
   "cell_type": "code",
   "execution_count": null,
   "metadata": {},
   "outputs": [],
   "source": [
    "List(a,b,aD,bD,Caa,Cab,Cbb,CaDa,CaDb,CbDa,CbDb,CaDaD,CaDbD,CbDbD)"
   ]
  },
  {
   "cell_type": "code",
   "execution_count": null,
   "metadata": {},
   "outputs": [],
   "source": [
    "# Python form (only requires conversion of List() -> [])\n",
    "[a,b,aD,bD,Caa,Cab,Cbb,CaDa,CaDb,CbDa,CbDb,CaDaD,CaDbD,CbDbD]"
   ]
  },
  {
   "cell_type": "markdown",
   "metadata": {},
   "source": [
    "returnA[[2]]: List of variables being calculated as strings"
   ]
  },
  {
   "cell_type": "code",
   "execution_count": null,
   "metadata": {},
   "outputs": [],
   "source": [
    "List(\"a\",\"b\",\"aD\",\"bD\",\"Caa\",\"Cab\",\"Cbb\",\"CaDa\",\"CaDb\",\"CbDa\",\"CbDb\",\"CaDaD\",\"CaDbD\",\"CbDbD\")"
   ]
  },
  {
   "cell_type": "code",
   "execution_count": null,
   "metadata": {},
   "outputs": [],
   "source": [
    "# Python form (only requires conversion of List() -> [])\n",
    "[\"a\",\"b\",\"aD\",\"bD\",\"Caa\",\"Cab\",\"Cbb\",\"CaDa\",\"CaDb\",\"CbDa\",\"CbDb\",\"CaDaD\",\"CaDbD\",\"CbDbD\"]"
   ]
  },
  {
   "cell_type": "markdown",
   "metadata": {},
   "source": [
    "returnA[[3]]: TEOMs for first-order cumulants"
   ]
  },
  {
   "cell_type": "code",
   "execution_count": null,
   "metadata": {},
   "outputs": [],
   "source": [
    "        List(((Cab + CbDa)*dW1*Sqrt(gamma))/Sqrt(2) - (a*dt*kappa)/2. - ((Cab - CbDa)*dW2*Sqrt(gamma)*KK)/Sqrt(2) - \n",
    "     -   dt*KK*(-(a*DeltaDA) + b*g + eta*Cos(phiE1) + eta*KK*Sin(phiE1)),\n",
    "     -  -0.5*(b*dt*gamma) + b*DeltaDB*dt*KK - a*dt*g*KK + b**2*bD*dt*KK*Lambda + \n",
    "     -   CbDb*((dW1*Sqrt(gamma))/Sqrt(2) + (dW2*Sqrt(gamma)*KK)/Sqrt(2) + 2*b*dt*KK*Lambda) + \n",
    "     -   Cbb*((dW1*Sqrt(gamma))/Sqrt(2) - (dW2*Sqrt(gamma)*KK)/Sqrt(2) + bD*dt*KK*Lambda),\n",
    "     -  ((CaDb + CaDbD)*dW1*Sqrt(gamma))/Sqrt(2) - (aD*dt*kappa)/2. - ((CaDb - CaDbD)*dW2*Sqrt(gamma)*KK)/Sqrt(2) + \n",
    "     -   dt*KK*(-(aD*DeltaDA) + bD*g + eta*Cos(phiE1) - eta*KK*Sin(phiE1)),\n",
    "     -  (Sqrt(2)*CbDb*dW1*Sqrt(gamma) - CbDb*KK*(Sqrt(2)*dW2*Sqrt(gamma) + 4*bD*dt*Lambda) - \n",
    "     -     dt*(-2*aD*g*KK + bD*(gamma + 2*DeltaDB*KK) + 2*b*bD**2*KK*Lambda) + \n",
    "     -     CbDbD*(Sqrt(2)*dW1*Sqrt(gamma) + Sqrt(2)*dW2*Sqrt(gamma)*KK - 2*b*dt*KK*Lambda))/2.)"
   ]
  },
  {
   "cell_type": "code",
   "execution_count": null,
   "metadata": {},
   "outputs": [],
   "source": [
    "# Python form including all replacements\n",
    "            [((Cab + CbDa)*dW1*np.sqrt(gamma))/np.sqrt(2) - (a*dt*kappa)/2. - ((Cab - CbDa)*dW2*np.sqrt(gamma)*1j)/np.sqrt(2) - \n",
    "       dt*1j*(-(a*DeltaDA) + b*g + eta*np.cos(phiE1) + eta*1j*np.sin(phiE1)),\n",
    "      -0.5*(b*dt*gamma) + b*DeltaDB*dt*1j - a*dt*g*1j + b**2*bD*dt*1j*Lambda + \n",
    "       CbDb*((dW1*np.sqrt(gamma))/np.sqrt(2) + (dW2*np.sqrt(gamma)*1j)/np.sqrt(2) + 2*b*dt*1j*Lambda) + \n",
    "       Cbb*((dW1*np.sqrt(gamma))/np.sqrt(2) - (dW2*np.sqrt(gamma)*1j)/np.sqrt(2) + bD*dt*1j*Lambda),\n",
    "      ((CaDb + CaDbD)*dW1*np.sqrt(gamma))/np.sqrt(2) - (aD*dt*kappa)/2. - ((CaDb - CaDbD)*dW2*np.sqrt(gamma)*1j)/np.sqrt(2) + \n",
    "       dt*1j*(-(aD*DeltaDA) + bD*g + eta*np.cos(phiE1) - eta*1j*np.sin(phiE1)),\n",
    "      (np.sqrt(2)*CbDb*dW1*np.sqrt(gamma) - CbDb*1j*(np.sqrt(2)*dW2*np.sqrt(gamma) + 4*bD*dt*Lambda) - \n",
    "         dt*(-2*aD*g*1j + bD*(gamma + 2*DeltaDB*1j) + 2*b*bD**2*1j*Lambda) + \n",
    "         CbDbD*(np.sqrt(2)*dW1*np.sqrt(gamma) + np.sqrt(2)*dW2*np.sqrt(gamma)*1j - 2*b*dt*1j*Lambda))/2.]"
   ]
  },
  {
   "cell_type": "markdown",
   "metadata": {},
   "source": [
    "returnA[[4]]: TEOMs for second-order cumulants"
   ]
  },
  {
   "cell_type": "code",
   "execution_count": null,
   "metadata": {},
   "outputs": [],
   "source": [
    "        List(-0.5*(dt*(4*Cab*g*KK + 2*Caa*(kappa - 2*DeltaDA*KK) - 2*Cab*CbDa*gamma*(-1 + KK**2) + \n",
    "     -       Cab**2*gamma*(1 + KK**2) + CbDa**2*gamma*(1 + KK**2))),\n",
    "     -  -0.5*(dt*(CbDa*CbDb*gamma + 2*Caa*g*KK + 2*Cbb*g*KK + CbDa*CbDb*gamma*KK**2 - 2*b**2*CbDa*KK*Lambda + \n",
    "     -       Cbb*CbDa*(gamma - gamma*KK**2 - 2*KK*Lambda) + \n",
    "     -       Cab*(kappa + gamma*(1 + Cbb + CbDb + Cbb*KK**2 - CbDb*KK**2) - \n",
    "     -          2*KK*(DeltaDA + DeltaDB + 2*(b*bD + CbDb)*Lambda)))),\n",
    "     -  -0.5*(dt*(4*Cab*g*KK + Cbb**2*gamma*(1 + KK**2) + CbDb**2*gamma*(1 + KK**2) - 2*b**2*KK*Lambda - \n",
    "     -       4*b**2*CbDb*KK*Lambda - 2*Cbb*(gamma*(-1 + CbDb*(-1 + KK**2)) + \n",
    "     -          KK*(2*DeltaDB + Lambda + 4*b*bD*Lambda + 6*CbDb*Lambda)))),\n",
    "     -  -0.5*(dt*(CaDbD*CbDa*gamma + 2*CaDa*kappa - 2*CbDa*g*KK + CaDbD*CbDa*gamma*KK**2 + \n",
    "     -       Cab*gamma*(CaDb + CaDbD + CaDb*KK**2 - CaDbD*KK**2) + CaDb*(CbDa*gamma + 2*g*KK - CbDa*gamma*KK**2))),\n",
    "     -  -0.5*(dt*(2*(CaDa - CbDb)*g*KK + CaDb*(kappa + gamma*(1 + Cbb + CbDb + Cbb*KK**2 - CbDb*KK**2) + \n",
    "     -          2*KK*(DeltaDA - DeltaDB - 2*(b*bD + CbDb)*Lambda)) + \n",
    "     -       CaDbD*(CbDb*gamma*(1 + KK**2) - 2*b**2*KK*Lambda + Cbb*(gamma - gamma*KK**2 - 2*KK*Lambda)))),\n",
    "     -  (dt*(2*(CaDa - CbDb)*g*KK - CbDa*(kappa + gamma*(1 + CbDb + CbDbD - CbDb*KK**2 + CbDbD*KK**2) + \n",
    "     -          2*KK*(-DeltaDA + DeltaDB + 2*(b*bD + CbDb)*Lambda)) - \n",
    "     -       Cab*(CbDb*gamma*(1 + KK**2) + 2*bD**2*KK*Lambda + CbDbD*(gamma - gamma*KK**2 + 2*KK*Lambda))))/2.,\n",
    "     -  (dt*(CbDb**2*gamma*(-1 + KK**2) + Cbb*CbDbD*gamma*(-1 + KK**2) - \n",
    "     -       CbDb*gamma*(2 + Cbb + CbDbD + Cbb*KK**2 + CbDbD*KK**2) - 2*bD**2*Cbb*KK*Lambda + \n",
    "     -       2*KK*(CaDb*g - CbDa*g + b**2*CbDbD*Lambda)))/2.,\n",
    "     -  -0.5*(dt*(-4*CaDbD*g*KK + 2*CaDaD*(kappa + 2*DeltaDA*KK) - 2*CaDb*CaDbD*gamma*(-1 + KK**2) + \n",
    "     -       CaDb**2*gamma*(1 + KK**2) + CaDbD**2*gamma*(1 + KK**2))),\n",
    "     -  (dt*(2*(CaDaD + CbDbD)*g*KK - CaDbD*(kappa + gamma*(1 + CbDb + CbDbD - CbDb*KK**2 + CbDbD*KK**2) + \n",
    "     -          2*KK*(DeltaDA + DeltaDB + 2*(b*bD + CbDb)*Lambda)) - \n",
    "     -       CaDb*(CbDb*gamma*(1 + KK**2) + 2*bD**2*KK*Lambda + CbDbD*(gamma - gamma*KK**2 + 2*KK*Lambda))))/2.,\n",
    "     -  -0.5*(dt*(-4*CaDbD*g*KK + CbDb**2*gamma*(1 + KK**2) + CbDbD**2*gamma*(1 + KK**2) + 2*bD**2*KK*Lambda + \n",
    "     -       2*CbDbD*(gamma + KK*(2*DeltaDB + Lambda + 4*b*bD*Lambda)) + \n",
    "     -       CbDb*(4*bD**2*KK*Lambda + 2*CbDbD*(gamma - gamma*KK**2 + 6*KK*Lambda)))))"
   ]
  },
  {
   "cell_type": "code",
   "execution_count": null,
   "metadata": {},
   "outputs": [],
   "source": [
    "# Python form including all replacements \n",
    "            [-0.5*(dt*(4*Cab*g*1j + 2*Caa*(kappa - 2*DeltaDA*1j) - 2*Cab*CbDa*gamma*(-1 + 1j**2) + \n",
    "           Cab**2*gamma*(1 + 1j**2) + CbDa**2*gamma*(1 + 1j**2))),\n",
    "      -0.5*(dt*(CbDa*CbDb*gamma + 2*Caa*g*1j + 2*Cbb*g*1j + CbDa*CbDb*gamma*1j**2 - 2*b**2*CbDa*1j*Lambda + \n",
    "           Cbb*CbDa*(gamma - gamma*1j**2 - 2*1j*Lambda) + \n",
    "           Cab*(kappa + gamma*(1 + Cbb + CbDb + Cbb*1j**2 - CbDb*1j**2) - \n",
    "              2*1j*(DeltaDA + DeltaDB + 2*(b*bD + CbDb)*Lambda)))),\n",
    "      -0.5*(dt*(4*Cab*g*1j + Cbb**2*gamma*(1 + 1j**2) + CbDb**2*gamma*(1 + 1j**2) - 2*b**2*1j*Lambda - \n",
    "           4*b**2*CbDb*1j*Lambda - 2*Cbb*(gamma*(-1 + CbDb*(-1 + 1j**2)) + \n",
    "              1j*(2*DeltaDB + Lambda + 4*b*bD*Lambda + 6*CbDb*Lambda)))),\n",
    "      -0.5*(dt*(CaDbD*CbDa*gamma + 2*CaDa*kappa - 2*CbDa*g*1j + CaDbD*CbDa*gamma*1j**2 + \n",
    "           Cab*gamma*(CaDb + CaDbD + CaDb*1j**2 - CaDbD*1j**2) + CaDb*(CbDa*gamma + 2*g*1j - CbDa*gamma*1j**2))),\n",
    "      -0.5*(dt*(2*(CaDa - CbDb)*g*1j + CaDb*(kappa + gamma*(1 + Cbb + CbDb + Cbb*1j**2 - CbDb*1j**2) + \n",
    "              2*1j*(DeltaDA - DeltaDB - 2*(b*bD + CbDb)*Lambda)) + \n",
    "           CaDbD*(CbDb*gamma*(1 + 1j**2) - 2*b**2*1j*Lambda + Cbb*(gamma - gamma*1j**2 - 2*1j*Lambda)))),\n",
    "      (dt*(2*(CaDa - CbDb)*g*1j - CbDa*(kappa + gamma*(1 + CbDb + CbDbD - CbDb*1j**2 + CbDbD*1j**2) + \n",
    "              2*1j*(-DeltaDA + DeltaDB + 2*(b*bD + CbDb)*Lambda)) - \n",
    "           Cab*(CbDb*gamma*(1 + 1j**2) + 2*bD**2*1j*Lambda + CbDbD*(gamma - gamma*1j**2 + 2*1j*Lambda))))/2.,\n",
    "      (dt*(CbDb**2*gamma*(-1 + 1j**2) + Cbb*CbDbD*gamma*(-1 + 1j**2) - \n",
    "           CbDb*gamma*(2 + Cbb + CbDbD + Cbb*1j**2 + CbDbD*1j**2) - 2*bD**2*Cbb*1j*Lambda + \n",
    "           2*1j*(CaDb*g - CbDa*g + b**2*CbDbD*Lambda)))/2.,\n",
    "      -0.5*(dt*(-4*CaDbD*g*1j + 2*CaDaD*(kappa + 2*DeltaDA*1j) - 2*CaDb*CaDbD*gamma*(-1 + 1j**2) + \n",
    "           CaDb**2*gamma*(1 + 1j**2) + CaDbD**2*gamma*(1 + 1j**2))),\n",
    "      (dt*(2*(CaDaD + CbDbD)*g*1j - CaDbD*(kappa + gamma*(1 + CbDb + CbDbD - CbDb*1j**2 + CbDbD*1j**2) + \n",
    "              2*1j*(DeltaDA + DeltaDB + 2*(b*bD + CbDb)*Lambda)) - \n",
    "           CaDb*(CbDb*gamma*(1 + 1j**2) + 2*bD**2*1j*Lambda + CbDbD*(gamma - gamma*1j**2 + 2*1j*Lambda))))/2.,\n",
    "      -0.5*(dt*(-4*CaDbD*g*1j + CbDb**2*gamma*(1 + 1j**2) + CbDbD**2*gamma*(1 + 1j**2) + 2*bD**2*1j*Lambda + \n",
    "           2*CbDbD*(gamma + 1j*(2*DeltaDB + Lambda + 4*b*bD*Lambda)) + \n",
    "           CbDb*(4*bD**2*1j*Lambda + 2*CbDbD*(gamma - gamma*1j**2 + 6*1j*Lambda))))]"
   ]
  },
  {
   "cell_type": "markdown",
   "metadata": {},
   "source": [
    "## Python TEOM integrator"
   ]
  },
  {
   "cell_type": "code",
   "execution_count": null,
   "metadata": {},
   "outputs": [],
   "source": [
    "def solveTEOMS(parameters, y0, t0, tF, tS, noiseTraj=None):\n",
    "    \n",
    "    # Extract parameters\n",
    "    [DeltaDA, DeltaDB, Lambda, g, kappa, gamma, eta, phiE1, Nop, Nw] = parameters\n",
    "\n",
    "    # Array of variable names\n",
    "    qVarName=[\"a\",\"b\",\"aD\",\"bD\",\"Caa\",\"Cab\",\"Cbb\",\"CaDa\",\"CaDb\",\"CbDa\",\"CbDb\",\"CaDaD\",\"CaDbD\",\"CbDbD\"]\n",
    "     \n",
    "    # Define solution vector\n",
    "    sol = np.zeros( ( int(np.round((tF-t0)/tS))+1,len(qVarName)), dtype=complex )\n",
    "    \n",
    "    # Initial condition\n",
    "    sol[0,:] = y0\n",
    "    \n",
    "    # Vector to store noise vectors\n",
    "    dwTraj = np.zeros( ( int(np.round((tF-t0)/tS))+1,Nw), dtype=complex )\n",
    "    \n",
    "    # Time span vector\n",
    "    T = np.linspace(t0, tF, int(np.round((tF-t0)/tS))+1 )\n",
    "    \n",
    "    # Set time increment\n",
    "    dt = tS\n",
    "    \n",
    "    ############################################################################\n",
    "    \n",
    "    # Euler integration\n",
    "    for n in range(0,len(T)):\n",
    "        \n",
    "        # Nw stochastic increments (for conditional evolution only)\n",
    "        dW1 = np.random.randn(1)*np.sqrt(tS)\n",
    "        dW2 = np.random.randn(1)*np.sqrt(tS)\n",
    "        \n",
    "        # Store noise trajectory\n",
    "        dwTraj[n,0] = dW1\n",
    "        dwTraj[n,1] = dW2\n",
    "            \n",
    "        # Define unknowns at previous time step\n",
    "        # Set current variable values using previous solution\n",
    "        [a,b,aD,bD,Caa,Cab,Cbb,CaDa,CaDb,CbDa,CbDb,CaDaD,CaDbD,CbDbD] = sol[n-1,:]\n",
    "        \n",
    "        # Perform Euler integration step, first-order moments\n",
    "        sol[n,0:(2*Nop)] = sol[n-1,0:(2*Nop)] + [((Cab + CbDa)*dW1*np.sqrt(gamma))/np.sqrt(2) - (a*dt*kappa)/2. - ((Cab - CbDa)*dW2*np.sqrt(gamma)*1j)/np.sqrt(2) - \n",
    "       dt*1j*(-(a*DeltaDA) + b*g + eta*np.cos(phiE1) + eta*1j*np.sin(phiE1)),\n",
    "      -0.5*(b*dt*gamma) + b*DeltaDB*dt*1j - a*dt*g*1j + b**2*bD*dt*1j*Lambda + \n",
    "       CbDb*((dW1*np.sqrt(gamma))/np.sqrt(2) + (dW2*np.sqrt(gamma)*1j)/np.sqrt(2) + 2*b*dt*1j*Lambda) + \n",
    "       Cbb*((dW1*np.sqrt(gamma))/np.sqrt(2) - (dW2*np.sqrt(gamma)*1j)/np.sqrt(2) + bD*dt*1j*Lambda),\n",
    "      ((CaDb + CaDbD)*dW1*np.sqrt(gamma))/np.sqrt(2) - (aD*dt*kappa)/2. - ((CaDb - CaDbD)*dW2*np.sqrt(gamma)*1j)/np.sqrt(2) + \n",
    "       dt*1j*(-(aD*DeltaDA) + bD*g + eta*np.cos(phiE1) - eta*1j*np.sin(phiE1)),\n",
    "      (np.sqrt(2)*CbDb*dW1*np.sqrt(gamma) - CbDb*1j*(np.sqrt(2)*dW2*np.sqrt(gamma) + 4*bD*dt*Lambda) - \n",
    "         dt*(-2*aD*g*1j + bD*(gamma + 2*DeltaDB*1j) + 2*b*bD**2*1j*Lambda) + \n",
    "         CbDbD*(np.sqrt(2)*dW1*np.sqrt(gamma) + np.sqrt(2)*dW2*np.sqrt(gamma)*1j - 2*b*dt*1j*Lambda))/2.]\n",
    "        \n",
    "         # Perform Euler integration step, second-order moments\n",
    "        sol[n,(2*Nop):] = sol[n-1,(2*Nop):] + [-0.5*(dt*(4*Cab*g*1j + 2*Caa*(kappa - 2*DeltaDA*1j) - 2*Cab*CbDa*gamma*(-1 + 1j**2) + \n",
    "           Cab**2*gamma*(1 + 1j**2) + CbDa**2*gamma*(1 + 1j**2))),\n",
    "      -0.5*(dt*(CbDa*CbDb*gamma + 2*Caa*g*1j + 2*Cbb*g*1j + CbDa*CbDb*gamma*1j**2 - 2*b**2*CbDa*1j*Lambda + \n",
    "           Cbb*CbDa*(gamma - gamma*1j**2 - 2*1j*Lambda) + \n",
    "           Cab*(kappa + gamma*(1 + Cbb + CbDb + Cbb*1j**2 - CbDb*1j**2) - \n",
    "              2*1j*(DeltaDA + DeltaDB + 2*(b*bD + CbDb)*Lambda)))),\n",
    "      -0.5*(dt*(4*Cab*g*1j + Cbb**2*gamma*(1 + 1j**2) + CbDb**2*gamma*(1 + 1j**2) - 2*b**2*1j*Lambda - \n",
    "           4*b**2*CbDb*1j*Lambda - 2*Cbb*(gamma*(-1 + CbDb*(-1 + 1j**2)) + \n",
    "              1j*(2*DeltaDB + Lambda + 4*b*bD*Lambda + 6*CbDb*Lambda)))),\n",
    "      -0.5*(dt*(CaDbD*CbDa*gamma + 2*CaDa*kappa - 2*CbDa*g*1j + CaDbD*CbDa*gamma*1j**2 + \n",
    "           Cab*gamma*(CaDb + CaDbD + CaDb*1j**2 - CaDbD*1j**2) + CaDb*(CbDa*gamma + 2*g*1j - CbDa*gamma*1j**2))),\n",
    "      -0.5*(dt*(2*(CaDa - CbDb)*g*1j + CaDb*(kappa + gamma*(1 + Cbb + CbDb + Cbb*1j**2 - CbDb*1j**2) + \n",
    "              2*1j*(DeltaDA - DeltaDB - 2*(b*bD + CbDb)*Lambda)) + \n",
    "           CaDbD*(CbDb*gamma*(1 + 1j**2) - 2*b**2*1j*Lambda + Cbb*(gamma - gamma*1j**2 - 2*1j*Lambda)))),\n",
    "      (dt*(2*(CaDa - CbDb)*g*1j - CbDa*(kappa + gamma*(1 + CbDb + CbDbD - CbDb*1j**2 + CbDbD*1j**2) + \n",
    "              2*1j*(-DeltaDA + DeltaDB + 2*(b*bD + CbDb)*Lambda)) - \n",
    "           Cab*(CbDb*gamma*(1 + 1j**2) + 2*bD**2*1j*Lambda + CbDbD*(gamma - gamma*1j**2 + 2*1j*Lambda))))/2.,\n",
    "      (dt*(CbDb**2*gamma*(-1 + 1j**2) + Cbb*CbDbD*gamma*(-1 + 1j**2) - \n",
    "           CbDb*gamma*(2 + Cbb + CbDbD + Cbb*1j**2 + CbDbD*1j**2) - 2*bD**2*Cbb*1j*Lambda + \n",
    "           2*1j*(CaDb*g - CbDa*g + b**2*CbDbD*Lambda)))/2.,\n",
    "      -0.5*(dt*(-4*CaDbD*g*1j + 2*CaDaD*(kappa + 2*DeltaDA*1j) - 2*CaDb*CaDbD*gamma*(-1 + 1j**2) + \n",
    "           CaDb**2*gamma*(1 + 1j**2) + CaDbD**2*gamma*(1 + 1j**2))),\n",
    "      (dt*(2*(CaDaD + CbDbD)*g*1j - CaDbD*(kappa + gamma*(1 + CbDb + CbDbD - CbDb*1j**2 + CbDbD*1j**2) + \n",
    "              2*1j*(DeltaDA + DeltaDB + 2*(b*bD + CbDb)*Lambda)) - \n",
    "           CaDb*(CbDb*gamma*(1 + 1j**2) + 2*bD**2*1j*Lambda + CbDbD*(gamma - gamma*1j**2 + 2*1j*Lambda))))/2.,\n",
    "      -0.5*(dt*(-4*CaDbD*g*1j + CbDb**2*gamma*(1 + 1j**2) + CbDbD**2*gamma*(1 + 1j**2) + 2*bD**2*1j*Lambda + \n",
    "           2*CbDbD*(gamma + 1j*(2*DeltaDB + Lambda + 4*b*bD*Lambda)) + \n",
    "           CbDb*(4*bD**2*1j*Lambda + 2*CbDbD*(gamma - gamma*1j**2 + 6*1j*Lambda))))]\n",
    "        \n",
    "    ############################################################################\n",
    "    \n",
    "    return sol, T, qVarName"
   ]
  }
 ],
 "metadata": {
  "kernelspec": {
   "display_name": "Python 3.8 [anaconda3/2020.7]",
   "language": "python",
   "name": "sys_python38"
  },
  "language_info": {
   "codemirror_mode": {
    "name": "ipython",
    "version": 3
   },
   "file_extension": ".py",
   "mimetype": "text/x-python",
   "name": "python",
   "nbconvert_exporter": "python",
   "pygments_lexer": "ipython3",
   "version": "3.8.3"
  }
 },
 "nbformat": 4,
 "nbformat_minor": 4
}
